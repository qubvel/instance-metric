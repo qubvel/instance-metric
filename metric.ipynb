{
 "cells": [
  {
   "cell_type": "code",
   "execution_count": 36,
   "metadata": {},
   "outputs": [],
   "source": [
    "import pandas as pd\n",
    "import numpy as np\n",
    "from tqdm import tqdm"
   ]
  },
  {
   "cell_type": "code",
   "execution_count": 48,
   "metadata": {},
   "outputs": [],
   "source": [
    "def rle_decode(rle_mask, shape):\n",
    "    \"\"\"\n",
    "    Args:\n",
    "        rle_mask: run-length as string formated (start length)\n",
    "        shape: (height, width) of array to return\n",
    "    Returns:\n",
    "        numpy array, 1 - mask, 0 - background\n",
    "    \"\"\"\n",
    "    s = rle_mask.split()\n",
    "    starts, lengths = [np.asarray(x, dtype=int) for x in (s[0:][::2], s[1:][::2])]\n",
    "    starts -= 1\n",
    "    ends = starts + lengths\n",
    "    img = np.zeros(shape[0]*shape[1], dtype=np.uint8)\n",
    "    for lo, hi in zip(starts, ends):\n",
    "        img[lo:hi] = 1\n",
    "    return img.reshape(shape)\n",
    "\n",
    "\n",
    "def decode_prediction(rle_masks, shape):\n",
    "    \"\"\"Decode RLE masks to raster format, \n",
    "    where each instance has its unique value\n",
    "    \n",
    "    Args:\n",
    "        rle_masks: list of rle-encoded masks\n",
    "        shape (tuple): shape of output decoded image, (height, width)\n",
    "    \n",
    "    Returns:\n",
    "        nd.array: np.uint64\n",
    "    \"\"\"\n",
    "    \n",
    "    output = np.zeros(shape, dtype=np.uint64)\n",
    "    \n",
    "    for i, rle_maks in enumerate(tqdm(rle_masks), 1): \n",
    "        output += (rle_decode(rle_maks, shape) * i)\n",
    "        \n",
    "    return output"
   ]
  },
  {
   "cell_type": "code",
   "execution_count": 62,
   "metadata": {},
   "outputs": [],
   "source": [
    "# Precision helper function\n",
    "def precision_at(threshold, iou):\n",
    "    matches = iou > threshold\n",
    "    true_positives = np.sum(matches, axis=1) == 1   # Correct objects\n",
    "    false_positives = np.sum(matches, axis=0) == 0  # Missed objects\n",
    "    false_negatives = np.sum(matches, axis=1) == 0  # Extra objects\n",
    "    tp, fp, fn = np.sum(true_positives), np.sum(false_positives), np.sum(false_negatives)\n",
    "    return tp, fp, fn\n",
    "\n",
    "def f_score(gt, pr, beta=1, verbose=1):\n",
    "    \"\"\"\n",
    "    Calculate instance-wise F-score in range(0.5, 1, 0.05)\n",
    "    \n",
    "    Source:\n",
    "        https://github.com/selimsef/dsb2018_topcoders/blob/master/selim/metric.py\n",
    "        \n",
    "    Args:\n",
    "        gt: ground truth instances mask (each instance has its own unique value)\n",
    "        pr: predicted instances mask (each instance has its own unique value)\n",
    "        beta: F-score beta coeffitient\n",
    "        verbose: verbosity level\n",
    "        \n",
    "    Returns:\n",
    "        score: float\n",
    "    \"\"\"\n",
    "    \n",
    "    labels = gt\n",
    "    y_pred = pr\n",
    "    print_fn = lambda x: print(x) if verbose else None\n",
    "    \n",
    "    true_objects = len(np.unique(labels))\n",
    "    pred_objects = len(np.unique(y_pred)) \n",
    "    \n",
    "    # Compute intersection between all objects\n",
    "    intersection = np.histogram2d(labels.flatten(), y_pred.flatten(), bins=(true_objects, pred_objects))[0]\n",
    "\n",
    "    # Compute areas (needed for finding the union between all objects)\n",
    "    area_true = np.histogram(labels, bins = true_objects)[0]\n",
    "    area_pred = np.histogram(y_pred, bins = pred_objects)[0]\n",
    "    area_true = np.expand_dims(area_true, -1)\n",
    "    area_pred = np.expand_dims(area_pred, 0)\n",
    "\n",
    "    # Compute union\n",
    "    union = area_true + area_pred - intersection \n",
    "    \n",
    "    # Exclude background from the analysis\n",
    "    intersection = intersection[1:,1:]\n",
    "    union = union[1:,1:]\n",
    "    union[union == 0] = 1e-9\n",
    "\n",
    "    # Compute the intersection over union\n",
    "    iou = intersection / union   \n",
    "\n",
    "    # Loop over IoU thresholds\n",
    "    prec = []\n",
    "    print_fn(\"Thresh\\tTP\\tFP\\tFN\\tPrec.\")\n",
    "    for t in np.arange(0.5, 1.0, 0.05):\n",
    "        tp, fp, fn = precision_at(t, iou)\n",
    "        p = (1 + beta**2) * tp / ((1 + beta**2) * tp + fp + beta**2 * fn)\n",
    "        print_fn(\"{:1.3f}\\t{}\\t{}\\t{}\\t{:1.3f}\".format(t, tp, fp, fn, p))\n",
    "        prec.append(p)\n",
    "    print_fn(\"AP\\t-\\t-\\t-\\t{:1.3f}\".format(np.mean(prec)))\n",
    "    \n",
    "    return np.mean(prec)"
   ]
  },
  {
   "cell_type": "markdown",
   "metadata": {},
   "source": [
    "# Evaluate results"
   ]
  },
  {
   "cell_type": "code",
   "execution_count": 59,
   "metadata": {},
   "outputs": [],
   "source": [
    "# shapes of source images\n",
    "shapes = {\n",
    "    'ZRYNEEUSVQ213QTY.png': (7736, 6530),\n",
    "    'P2MLF2MV9K9XIYUI.png': (7735, 6529),\n",
    "    'KHSF2T5PXCKI0978.png': (7734, 6528),\n",
    "}\n",
    "\n",
    "ids = list(shapes.keys())\n",
    "\n",
    "# read data frames with predictions and groun_truth\n",
    "gt_df = pd.read_csv('../../data/submissions/sub-private-1a.csv')\n",
    "pr_df = pd.read_csv('../../data/submissions/sub-private-2a.csv')"
   ]
  },
  {
   "cell_type": "code",
   "execution_count": 60,
   "metadata": {},
   "outputs": [
    {
     "name": "stderr",
     "output_type": "stream",
     "text": [
      "100%|██████████| 183/183 [00:18<00:00, 10.01it/s]\n",
      "100%|██████████| 172/172 [00:15<00:00, 10.87it/s]\n",
      "100%|██████████| 319/319 [00:30<00:00, 10.34it/s]\n",
      "100%|██████████| 310/310 [00:29<00:00, 10.44it/s]\n",
      "100%|██████████| 746/746 [01:21<00:00,  9.18it/s]\n",
      "100%|██████████| 757/757 [01:23<00:00,  9.10it/s]\n"
     ]
    }
   ],
   "source": [
    "scores = []\n",
    "\n",
    "for image_id in ids:\n",
    "    \n",
    "    # extract rle masks from dataframes\n",
    "    gt_rle_masks = gt_df[gt_df.ImageId == image_id].EncodedPixels.values\n",
    "    pr_rle_masks = pr_df[pr_df.ImageId == image_id].EncodedPixels.values\n",
    "\n",
    "    # decoding RLE\n",
    "    gt_mask = decode_prediction(gt_rle_masks, shapes[image_id])\n",
    "    pr_mask = decode_prediction(pr_rle_masks, shapes[image_id])\n",
    "    \n",
    "    # calculate score\n",
    "    score = f_score(gt_mask, pr_mask, beta=2, verbose=0)\n",
    "    scores.append(score)"
   ]
  },
  {
   "cell_type": "code",
   "execution_count": 61,
   "metadata": {},
   "outputs": [
    {
     "name": "stdout",
     "output_type": "stream",
     "text": [
      "F2-score: 0.903\n"
     ]
    }
   ],
   "source": [
    "print('F2-score: {:.3}'.format(np.mean(scores)))"
   ]
  }
 ],
 "metadata": {
  "kernelspec": {
   "display_name": "Python 3",
   "language": "python",
   "name": "python3"
  },
  "language_info": {
   "codemirror_mode": {
    "name": "ipython",
    "version": 3
   },
   "file_extension": ".py",
   "mimetype": "text/x-python",
   "name": "python",
   "nbconvert_exporter": "python",
   "pygments_lexer": "ipython3",
   "version": "3.6.5"
  }
 },
 "nbformat": 4,
 "nbformat_minor": 2
}
